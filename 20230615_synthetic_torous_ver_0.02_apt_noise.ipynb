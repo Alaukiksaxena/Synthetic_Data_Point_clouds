{
 "cells": [
  {
   "cell_type": "code",
   "execution_count": 13,
   "id": "3253290c",
   "metadata": {},
   "outputs": [],
   "source": [
    "from ase import Atoms\n",
    "from ase.build import bulk"
   ]
  },
  {
   "cell_type": "code",
   "execution_count": 39,
   "id": "551054fa",
   "metadata": {},
   "outputs": [],
   "source": [
    "from ase import Atoms\n",
    "from ase.build import bulk\n",
    "import numpy as np\n",
    "from pyevtk.hl import pointsToVTK\n",
    "from pyevtk.hl import gridToVTK#, pointsToVTKAsTIN\n",
    "from aptstructure.funct_syn_data import  *\n",
    "from ase.visualize import view\n",
    "import h5py\n"
   ]
  },
  {
   "cell_type": "code",
   "execution_count": 15,
   "id": "0bdebfd2",
   "metadata": {},
   "outputs": [],
   "source": [
    "def is_inside_halftorus(position, center, major_radius, minor_radius):\n",
    "    displacement = position - center\n",
    "    r_cylindrical = np.linalg.norm(displacement[:2])\n",
    "    is_in_torus = (r_cylindrical - major_radius)**2 + displacement[2]**2 < minor_radius**2\n",
    "    return is_in_torus and displacement[0] > 0  # for half torus\n",
    "\n",
    "\n",
    "def is_inside_sphere(position, center, radius):\n",
    "    displacement = position - center\n",
    "    return np.linalg.norm(displacement) < radius\n",
    "\n"
   ]
  },
  {
   "cell_type": "code",
   "execution_count": null,
   "id": "b26e79de",
   "metadata": {},
   "outputs": [],
   "source": []
  },
  {
   "cell_type": "code",
   "execution_count": 16,
   "id": "8ec47ae9",
   "metadata": {},
   "outputs": [
    {
     "name": "stderr",
     "output_type": "stream",
     "text": [
      "/Users/alaukiksaxena/tensorflow-test/Development_20230613/Dislocations_20230613/env_dis/lib/python3.8/site-packages/ase/atoms.py:967: VisibleDeprecationWarning: Use get_global_number_of_atoms() instead\n",
      "  warnings.warn('Use get_global_number_of_atoms() instead',\n"
     ]
    }
   ],
   "source": [
    "supercell=APT_structure(Type=\"l12\", size=150, ratio_SOL=0.0,  m=0, sigma_x_y=0., sigma_z=0.,eff=1,angles=[0,0,0],rot=False  ) #150"
   ]
  },
  {
   "cell_type": "code",
   "execution_count": 17,
   "id": "4dd7f509",
   "metadata": {},
   "outputs": [
    {
     "name": "stdout",
     "output_type": "stream",
     "text": [
      "CPU times: user 1min 37s, sys: 1.11 s, total: 1min 38s\n",
      "Wall time: 1min 38s\n"
     ]
    }
   ],
   "source": [
    "%%time\n",
    "center_torus = supercell.cell.diagonal() / 2\n",
    "major_radius = 100  # Adjust based on your requirements\n",
    "minor_radius = 30   # Adjust based on your requirements\n",
    "\n",
    "center_sphere1 = center_torus - [0,major_radius, 0]  # Adjust based on your torus orientation\n",
    "center_sphere2 = center_torus + [0,major_radius,  0]  # Adjust based on your torus orientation\n",
    "atom_id = []\n",
    "for atom in supercell:\n",
    "    if not(is_inside_halftorus(atom.position, center_torus, major_radius, minor_radius) or \n",
    "            is_inside_sphere(atom.position, center_sphere1, minor_radius) or\n",
    "            is_inside_sphere(atom.position, center_sphere2, minor_radius)):\n",
    "        atom.symbol = 'Al'\n",
    "        atom_id.append(atom.index)\n"
   ]
  },
  {
   "cell_type": "code",
   "execution_count": 23,
   "id": "c4d3ea27",
   "metadata": {},
   "outputs": [],
   "source": [
    "atom_id = np.array(atom_id)"
   ]
  },
  {
   "cell_type": "code",
   "execution_count": 24,
   "id": "686888f1",
   "metadata": {},
   "outputs": [
    {
     "data": {
      "text/plain": [
       "1343972"
      ]
     },
     "execution_count": 24,
     "metadata": {},
     "output_type": "execute_result"
    }
   ],
   "source": [
    "int(len(atom_id)*0.1)"
   ]
  },
  {
   "cell_type": "code",
   "execution_count": 25,
   "id": "c8247800",
   "metadata": {},
   "outputs": [],
   "source": [
    "cu_idrand = atom_id[np.random.randint(0,len(atom_id),int(len(atom_id)*0.1))]"
   ]
  },
  {
   "cell_type": "code",
   "execution_count": 26,
   "id": "86187976",
   "metadata": {},
   "outputs": [
    {
     "data": {
      "text/plain": [
       "array([ 1327226,   648279, 13190457, ...,  6778693,  7031830,  2877248])"
      ]
     },
     "execution_count": 26,
     "metadata": {},
     "output_type": "execute_result"
    }
   ],
   "source": [
    "cu_idrand"
   ]
  },
  {
   "cell_type": "code",
   "execution_count": 27,
   "id": "5a221a37",
   "metadata": {},
   "outputs": [],
   "source": [
    "supercell.symbols[cu_idrand] = \"Cu\""
   ]
  },
  {
   "cell_type": "code",
   "execution_count": 33,
   "id": "c7f99f05",
   "metadata": {},
   "outputs": [],
   "source": [
    "element_typ = supercell.get_atomic_numbers()"
   ]
  },
  {
   "cell_type": "code",
   "execution_count": 34,
   "id": "c02a3766",
   "metadata": {},
   "outputs": [],
   "source": [
    "pos_cell = supercell.get_positions()"
   ]
  },
  {
   "cell_type": "code",
   "execution_count": 35,
   "id": "16066fd5",
   "metadata": {},
   "outputs": [],
   "source": [
    "element_typ_mass = np.where(element_typ==13, 26.98, 62.0)"
   ]
  },
  {
   "cell_type": "code",
   "execution_count": 36,
   "id": "2355dbac",
   "metadata": {},
   "outputs": [
    {
     "data": {
      "text/plain": [
       "array([62.  , 26.98, 26.98, ..., 62.  , 26.98, 26.98])"
      ]
     },
     "execution_count": 36,
     "metadata": {},
     "output_type": "execute_result"
    }
   ],
   "source": [
    "element_typ_mass"
   ]
  },
  {
   "cell_type": "code",
   "execution_count": 37,
   "id": "2387fad2",
   "metadata": {},
   "outputs": [],
   "source": [
    "data_pos_mass = np.hstack((pos_cell, element_typ_mass.reshape(-1,1),  element_typ.reshape(-1,1)))"
   ]
  },
  {
   "cell_type": "code",
   "execution_count": 40,
   "id": "dce49f67",
   "metadata": {},
   "outputs": [],
   "source": [
    "with h5py.File(\"iso_Al_Cu_tourus_150_random_diffuse_solidsol_diff.h5\", \"w\") as hdfr:\n",
    "    \n",
    "    hdfr.create_dataset(\"0\", data = data_pos_mass)"
   ]
  },
  {
   "cell_type": "code",
   "execution_count": 10,
   "id": "44eb5d7d",
   "metadata": {},
   "outputs": [],
   "source": [
    "\n"
   ]
  },
  {
   "cell_type": "code",
   "execution_count": 11,
   "id": "cb31551b",
   "metadata": {},
   "outputs": [],
   "source": []
  },
  {
   "cell_type": "code",
   "execution_count": 12,
   "id": "cb92a7db",
   "metadata": {},
   "outputs": [
    {
     "data": {
      "text/plain": [
       "array([303.75, 303.75, 303.75])"
      ]
     },
     "execution_count": 12,
     "metadata": {},
     "output_type": "execute_result"
    }
   ],
   "source": [
    "center_torus"
   ]
  },
  {
   "cell_type": "code",
   "execution_count": 13,
   "id": "1d582fff",
   "metadata": {},
   "outputs": [
    {
     "data": {
      "text/plain": [
       "array([[  0.   ,   0.   ,   0.   ],\n",
       "       [  0.   ,   2.025,   2.025],\n",
       "       [  2.025,   0.   ,   2.025],\n",
       "       ...,\n",
       "       [603.45 , 605.475, 605.475],\n",
       "       [605.475, 603.45 , 605.475],\n",
       "       [605.475, 605.475, 603.45 ]])"
      ]
     },
     "execution_count": 13,
     "metadata": {},
     "output_type": "execute_result"
    }
   ],
   "source": [
    "supercell.get_positions()"
   ]
  },
  {
   "cell_type": "code",
   "execution_count": 41,
   "id": "4300ded5",
   "metadata": {},
   "outputs": [
    {
     "name": "stdout",
     "output_type": "stream",
     "text": [
      "20230615_dis_half_tourus_apt_noise\n"
     ]
    },
    {
     "data": {
      "text/plain": [
       "'/Users/alaukiksaxena/tensorflow-test/Development_20230613/Dislocations_20230613/Synthetic_Data_Point_clouds/20230615_dis_half_tourus_apt_noise.vtu'"
      ]
     },
     "execution_count": 41,
     "metadata": {},
     "output_type": "execute_result"
    }
   ],
   "source": [
    "from pyevtk.hl import pointsToVTK\n",
    "from pyevtk.hl import gridToVTK#, pointsToVTKAsTIN\n",
    "image = supercell.get_positions()\n",
    "FILE_PATH1 = \"20230615_dis_half_tourus_apt_noise\"\n",
    "print(FILE_PATH1)\n",
    "x = np.ascontiguousarray(image[:,0]/10)\n",
    "y= np.ascontiguousarray(image[:,1]/10)\n",
    "z = np.ascontiguousarray(image[:,2]/10)\n",
    "label = np.ascontiguousarray( supercell.get_atomic_numbers())\n",
    "pointsToVTK(FILE_PATH1,x,y,z, data = {\"label\" : label }  )"
   ]
  },
  {
   "cell_type": "code",
   "execution_count": null,
   "id": "0759edd8",
   "metadata": {},
   "outputs": [],
   "source": [
    "# making a cylinder\n",
    "\"\"\"import numpy as np\n",
    "\n",
    "def is_inside_cylinder(position, center, axis, radius):\n",
    "    displacement = position - center\n",
    "    distance_to_axis = np.linalg.norm(displacement - np.dot(displacement, axis) * axis)\n",
    "    return distance_to_axis < radius\n",
    "\n",
    "center = supercell.cell.diagonal() / 2\n",
    "axis = np.array([0, 0, 1])  # Change this to the desired axis of the cylinder\n",
    "radius = 10  # Change this to the desired radius\n",
    "\n",
    "for atom in supercell:\n",
    "    if is_inside_cylinder(atom.position, center, axis, radius):\n",
    "        atom.symbol = 'Cu'\"\"\";\n",
    "\n",
    "#Making a torus\n",
    "\n",
    "\"\"\"\n",
    "def is_inside_torus(position, center, major_radius, minor_radius):\n",
    "    displacement = position - center\n",
    "    # Keep only x and y for cylindrical coordinates\n",
    "    r_cylindrical = np.linalg.norm(displacement[:2])\n",
    "    return (r_cylindrical - major_radius)**2 + displacement[2]**2 < minor_radius**2\n",
    "\n",
    "center = supercell.cell.diagonal() / 2\n",
    "major_radius = 100  # Adjust based on your requirements\n",
    "minor_radius = 30 # Adjust based on your requirements\n",
    "\n",
    "for atom in supercell:\n",
    "    if is_inside_torus(atom.position, center, major_radius, minor_radius):\n",
    "        atom.symbol = 'Cu'\n",
    "        \n",
    "\"\"\""
   ]
  },
  {
   "cell_type": "code",
   "execution_count": null,
   "id": "5c2ce9b2",
   "metadata": {},
   "outputs": [],
   "source": []
  },
  {
   "cell_type": "code",
   "execution_count": null,
   "id": "d039103f",
   "metadata": {},
   "outputs": [],
   "source": []
  }
 ],
 "metadata": {
  "kernelspec": {
   "display_name": "Python 3 (ipykernel)",
   "language": "python",
   "name": "python3"
  },
  "language_info": {
   "codemirror_mode": {
    "name": "ipython",
    "version": 3
   },
   "file_extension": ".py",
   "mimetype": "text/x-python",
   "name": "python",
   "nbconvert_exporter": "python",
   "pygments_lexer": "ipython3",
   "version": "3.8.16"
  }
 },
 "nbformat": 4,
 "nbformat_minor": 5
}
