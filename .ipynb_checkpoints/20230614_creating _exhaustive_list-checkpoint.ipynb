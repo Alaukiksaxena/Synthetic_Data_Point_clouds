{
 "cells": [
  {
   "cell_type": "code",
   "execution_count": 1,
   "id": "3253290c",
   "metadata": {},
   "outputs": [],
   "source": [
    "from ase import Atoms\n",
    "from ase.build import bulk"
   ]
  },
  {
   "cell_type": "code",
   "execution_count": 3,
   "id": "c29cf01c",
   "metadata": {},
   "outputs": [],
   "source": [
    "import numpy as np"
   ]
  },
  {
   "cell_type": "code",
   "execution_count": 7,
   "id": "f35a3a87",
   "metadata": {},
   "outputs": [],
   "source": [
    "elements = np.array([1,1,0,0,0])"
   ]
  },
  {
   "cell_type": "code",
   "execution_count": 9,
   "id": "fa06c406",
   "metadata": {},
   "outputs": [],
   "source": [
    "elements_sum = np.sum(elements) "
   ]
  },
  {
   "cell_type": "code",
   "execution_count": 20,
   "id": "1557a122",
   "metadata": {},
   "outputs": [
    {
     "data": {
      "text/plain": [
       "array(<itertools.permutations object at 0x13f0cd360>, dtype=object)"
      ]
     },
     "execution_count": 20,
     "metadata": {},
     "output_type": "execute_result"
    }
   ],
   "source": [
    "import itertools\n",
    "np.array((itertools.permutations([1,1,0,0,0])))"
   ]
  },
  {
   "cell_type": "code",
   "execution_count": null,
   "id": "e4d5deb6",
   "metadata": {},
   "outputs": [],
   "source": []
  },
  {
   "cell_type": "code",
   "execution_count": null,
   "id": "8d948314",
   "metadata": {},
   "outputs": [],
   "source": [
    "list_ele = []\n",
    "for i in range(elements):\n",
    "    list_ele"
   ]
  },
  {
   "cell_type": "code",
   "execution_count": null,
   "id": "c6eb6dad",
   "metadata": {},
   "outputs": [],
   "source": []
  },
  {
   "cell_type": "code",
   "execution_count": 6,
   "id": "3308d2ab",
   "metadata": {},
   "outputs": [
    {
     "data": {
      "text/plain": [
       "array([12,  9,  1, 15,  4])"
      ]
     },
     "execution_count": 6,
     "metadata": {},
     "output_type": "execute_result"
    }
   ],
   "source": [
    "np.random.permutation([1, 4, 9, 12, 15])"
   ]
  },
  {
   "cell_type": "code",
   "execution_count": null,
   "id": "89e17dfb",
   "metadata": {},
   "outputs": [],
   "source": [
    "np.percent"
   ]
  },
  {
   "cell_type": "code",
   "execution_count": null,
   "id": "beec0aaf",
   "metadata": {},
   "outputs": [],
   "source": []
  },
  {
   "cell_type": "code",
   "execution_count": null,
   "id": "243a933a",
   "metadata": {},
   "outputs": [],
   "source": []
  },
  {
   "cell_type": "code",
   "execution_count": 3,
   "id": "d5d64ac3",
   "metadata": {},
   "outputs": [],
   "source": [
    "# making a cylinder\n",
    "\"\"\"import numpy as np\n",
    "\n",
    "def is_inside_cylinder(position, center, axis, radius):\n",
    "    displacement = position - center\n",
    "    distance_to_axis = np.linalg.norm(displacement - np.dot(displacement, axis) * axis)\n",
    "    return distance_to_axis < radius\n",
    "\n",
    "center = supercell.cell.diagonal() / 2\n",
    "axis = np.array([0, 0, 1])  # Change this to the desired axis of the cylinder\n",
    "radius = 10  # Change this to the desired radius\n",
    "\n",
    "for atom in supercell:\n",
    "    if is_inside_cylinder(atom.position, center, axis, radius):\n",
    "        atom.symbol = 'Cu'\"\"\";"
   ]
  },
  {
   "cell_type": "code",
   "execution_count": 4,
   "id": "805a1d68",
   "metadata": {},
   "outputs": [],
   "source": [
    "#from ase.visualize import view\n",
    "\n",
    "#view(supercell)"
   ]
  },
  {
   "cell_type": "code",
   "execution_count": 5,
   "id": "f9ff57f2",
   "metadata": {},
   "outputs": [
    {
     "data": {
      "text/plain": [
       "Cell([607.5, 607.5, 607.5])"
      ]
     },
     "execution_count": 5,
     "metadata": {},
     "output_type": "execute_result"
    }
   ],
   "source": [
    "supercell.get_cell()"
   ]
  },
  {
   "cell_type": "code",
   "execution_count": 6,
   "id": "73db3f03",
   "metadata": {},
   "outputs": [],
   "source": [
    "#Making a torus\n",
    "\n",
    "\n",
    "def is_inside_torus(position, center, major_radius, minor_radius):\n",
    "    displacement = position - center\n",
    "    # Keep only x and y for cylindrical coordinates\n",
    "    r_cylindrical = np.linalg.norm(displacement[:2])\n",
    "    return (r_cylindrical - major_radius)**2 + displacement[2]**2 < minor_radius**2\n",
    "\n",
    "center = supercell.cell.diagonal() / 2\n",
    "major_radius = 100  # Adjust based on your requirements\n",
    "minor_radius = 30 # Adjust based on your requirements\n",
    "\n",
    "for atom in supercell:\n",
    "    if is_inside_torus(atom.position, center, major_radius, minor_radius):\n",
    "        atom.symbol = 'Cu'"
   ]
  },
  {
   "cell_type": "code",
   "execution_count": 7,
   "id": "bb7a11bb",
   "metadata": {},
   "outputs": [],
   "source": [
    "from pyevtk.hl import pointsToVTK\n",
    "from pyevtk.hl import gridToVTK#, pointsToVTKAsTIN"
   ]
  },
  {
   "cell_type": "code",
   "execution_count": 8,
   "id": "9f542796",
   "metadata": {},
   "outputs": [
    {
     "data": {
      "text/plain": [
       "array([13, 13, 13, ..., 13, 13, 13])"
      ]
     },
     "execution_count": 8,
     "metadata": {},
     "output_type": "execute_result"
    }
   ],
   "source": [
    "supercell.get_atomic_numbers()"
   ]
  },
  {
   "cell_type": "code",
   "execution_count": 9,
   "id": "dce49f67",
   "metadata": {},
   "outputs": [
    {
     "data": {
      "text/plain": [
       "array([[  0.   ,   0.   ,   0.   ],\n",
       "       [  0.   ,   2.025,   2.025],\n",
       "       [  2.025,   0.   ,   2.025],\n",
       "       ...,\n",
       "       [603.45 , 605.475, 605.475],\n",
       "       [605.475, 603.45 , 605.475],\n",
       "       [605.475, 605.475, 603.45 ]])"
      ]
     },
     "execution_count": 9,
     "metadata": {},
     "output_type": "execute_result"
    }
   ],
   "source": [
    "supercell.get_positions()"
   ]
  },
  {
   "cell_type": "code",
   "execution_count": 10,
   "id": "f7e8ca91",
   "metadata": {},
   "outputs": [
    {
     "name": "stdout",
     "output_type": "stream",
     "text": [
      "20230614_dis_tourus\n"
     ]
    },
    {
     "data": {
      "text/plain": [
       "'/Users/alaukiksaxena/tensorflow-test/Development_20230613/Dislocations_20230613/Synthetic_Data_Point_clouds/20230614_dis_tourus.vtu'"
      ]
     },
     "execution_count": 10,
     "metadata": {},
     "output_type": "execute_result"
    }
   ],
   "source": [
    "image = supercell.get_positions()\n",
    "FILE_PATH1 = \"20230614_dis_tourus\"\n",
    "print(FILE_PATH1)\n",
    "x = np.ascontiguousarray(image[:,0])\n",
    "y= np.ascontiguousarray(image[:,1])\n",
    "z = np.ascontiguousarray(image[:,2])\n",
    "label = np.ascontiguousarray( supercell.get_atomic_numbers())\n",
    "pointsToVTK(FILE_PATH1,x,y,z, data = {\"label\" : label }  )"
   ]
  },
  {
   "cell_type": "code",
   "execution_count": null,
   "id": "f53173e5",
   "metadata": {},
   "outputs": [],
   "source": []
  },
  {
   "cell_type": "code",
   "execution_count": null,
   "id": "cfe18d71",
   "metadata": {},
   "outputs": [],
   "source": []
  },
  {
   "cell_type": "code",
   "execution_count": null,
   "id": "44eb5d7d",
   "metadata": {},
   "outputs": [],
   "source": []
  }
 ],
 "metadata": {
  "kernelspec": {
   "display_name": "Python 3 (ipykernel)",
   "language": "python",
   "name": "python3"
  },
  "language_info": {
   "codemirror_mode": {
    "name": "ipython",
    "version": 3
   },
   "file_extension": ".py",
   "mimetype": "text/x-python",
   "name": "python",
   "nbconvert_exporter": "python",
   "pygments_lexer": "ipython3",
   "version": "3.8.16"
  }
 },
 "nbformat": 4,
 "nbformat_minor": 5
}
