{
 "cells": [
  {
   "cell_type": "code",
   "execution_count": 7,
   "id": "3253290c",
   "metadata": {},
   "outputs": [],
   "source": [
    "from ase import Atoms\n",
    "from ase.build import bulk"
   ]
  },
  {
   "cell_type": "code",
   "execution_count": 8,
   "id": "551054fa",
   "metadata": {},
   "outputs": [],
   "source": [
    "from ase import Atoms\n",
    "from ase.build import bulk\n",
    "import numpy as np\n",
    "from pyevtk.hl import pointsToVTK\n",
    "from pyevtk.hl import gridToVTK#, pointsToVTKAsTIN\n"
   ]
  },
  {
   "cell_type": "code",
   "execution_count": 3,
   "id": "d5d64ac3",
   "metadata": {},
   "outputs": [],
   "source": [
    "# Define the aluminum supercell\n",
    "aluminum = bulk('Al', 'fcc', a=4.05, cubic=True)\n",
    "supercell = aluminum.repeat((150, 150, 150))  # Repeat the basic cell to form a supercell"
   ]
  },
  {
   "cell_type": "code",
   "execution_count": 8,
   "id": "9f542796",
   "metadata": {},
   "outputs": [
    {
     "data": {
      "text/plain": [
       "array([13, 13, 13, ..., 13, 13, 13])"
      ]
     },
     "execution_count": 8,
     "metadata": {},
     "output_type": "execute_result"
    }
   ],
   "source": [
    "supercell.get_atomic_numbers()"
   ]
  },
  {
   "cell_type": "code",
   "execution_count": 9,
   "id": "dce49f67",
   "metadata": {},
   "outputs": [
    {
     "data": {
      "text/plain": [
       "array([[  0.   ,   0.   ,   0.   ],\n",
       "       [  0.   ,   2.025,   2.025],\n",
       "       [  2.025,   0.   ,   2.025],\n",
       "       ...,\n",
       "       [603.45 , 605.475, 605.475],\n",
       "       [605.475, 603.45 , 605.475],\n",
       "       [605.475, 605.475, 603.45 ]])"
      ]
     },
     "execution_count": 9,
     "metadata": {},
     "output_type": "execute_result"
    }
   ],
   "source": [
    "supercell.get_positions()"
   ]
  },
  {
   "cell_type": "code",
   "execution_count": 10,
   "id": "44eb5d7d",
   "metadata": {},
   "outputs": [],
   "source": [
    "def is_inside_halftorus(position, center, major_radius, minor_radius):\n",
    "    displacement = position - center\n",
    "    r_cylindrical = np.linalg.norm(displacement[:2])\n",
    "    is_in_torus = (r_cylindrical - major_radius)**2 + displacement[2]**2 < minor_radius**2\n",
    "    return is_in_torus and displacement[0] > 0  # for half torus\n",
    "\n",
    "\n",
    "def is_inside_sphere(position, center, radius):\n",
    "    displacement = position - center\n",
    "    return np.linalg.norm(displacement) < radius\n",
    "\n"
   ]
  },
  {
   "cell_type": "code",
   "execution_count": 11,
   "id": "cb31551b",
   "metadata": {},
   "outputs": [],
   "source": [
    "center_torus = supercell.cell.diagonal() / 2\n",
    "major_radius = 100  # Adjust based on your requirements\n",
    "minor_radius = 30   # Adjust based on your requirements\n",
    "\n",
    "center_sphere1 = center_torus - [0,major_radius, 0]  # Adjust based on your torus orientation\n",
    "center_sphere2 = center_torus + [0,major_radius,  0]  # Adjust based on your torus orientation\n",
    "\n",
    "for atom in supercell:\n",
    "    if (is_inside_halftorus(atom.position, center_torus, major_radius, minor_radius) or \n",
    "        is_inside_sphere(atom.position, center_sphere1, minor_radius) or\n",
    "        is_inside_sphere(atom.position, center_sphere2, minor_radius)):\n",
    "        atom.symbol = 'Cu'\n"
   ]
  },
  {
   "cell_type": "code",
   "execution_count": 12,
   "id": "cb92a7db",
   "metadata": {},
   "outputs": [
    {
     "data": {
      "text/plain": [
       "array([303.75, 303.75, 303.75])"
      ]
     },
     "execution_count": 12,
     "metadata": {},
     "output_type": "execute_result"
    }
   ],
   "source": [
    "center_torus"
   ]
  },
  {
   "cell_type": "code",
   "execution_count": 13,
   "id": "1d582fff",
   "metadata": {},
   "outputs": [
    {
     "data": {
      "text/plain": [
       "array([[  0.   ,   0.   ,   0.   ],\n",
       "       [  0.   ,   2.025,   2.025],\n",
       "       [  2.025,   0.   ,   2.025],\n",
       "       ...,\n",
       "       [603.45 , 605.475, 605.475],\n",
       "       [605.475, 603.45 , 605.475],\n",
       "       [605.475, 605.475, 603.45 ]])"
      ]
     },
     "execution_count": 13,
     "metadata": {},
     "output_type": "execute_result"
    }
   ],
   "source": [
    "supercell.get_positions()"
   ]
  },
  {
   "cell_type": "code",
   "execution_count": 15,
   "id": "4300ded5",
   "metadata": {},
   "outputs": [
    {
     "name": "stdout",
     "output_type": "stream",
     "text": [
      "20230615_dis_half_tourus\n"
     ]
    },
    {
     "data": {
      "text/plain": [
       "'/Users/alaukiksaxena/tensorflow-test/Development_20230613/Dislocations_20230613/Synthetic_Data_Point_clouds/20230615_dis_half_tourus.vtu'"
      ]
     },
     "execution_count": 15,
     "metadata": {},
     "output_type": "execute_result"
    }
   ],
   "source": [
    "from pyevtk.hl import pointsToVTK\n",
    "from pyevtk.hl import gridToVTK#, pointsToVTKAsTIN\n",
    "image = supercell.get_positions()\n",
    "FILE_PATH1 = \"20230615_dis_half_tourus\"\n",
    "print(FILE_PATH1)\n",
    "x = np.ascontiguousarray(image[:,0])\n",
    "y= np.ascontiguousarray(image[:,1])\n",
    "z = np.ascontiguousarray(image[:,2])\n",
    "label = np.ascontiguousarray( supercell.get_atomic_numbers())\n",
    "pointsToVTK(FILE_PATH1,x,y,z, data = {\"label\" : label }  )"
   ]
  },
  {
   "cell_type": "code",
   "execution_count": null,
   "id": "a55b5289",
   "metadata": {},
   "outputs": [],
   "source": [
    "# making a cylinder\n",
    "\"\"\"import numpy as np\n",
    "\n",
    "def is_inside_cylinder(position, center, axis, radius):\n",
    "    displacement = position - center\n",
    "    distance_to_axis = np.linalg.norm(displacement - np.dot(displacement, axis) * axis)\n",
    "    return distance_to_axis < radius\n",
    "\n",
    "center = supercell.cell.diagonal() / 2\n",
    "axis = np.array([0, 0, 1])  # Change this to the desired axis of the cylinder\n",
    "radius = 10  # Change this to the desired radius\n",
    "\n",
    "for atom in supercell:\n",
    "    if is_inside_cylinder(atom.position, center, axis, radius):\n",
    "        atom.symbol = 'Cu'\"\"\";\n",
    "\n",
    "#Making a torus\n",
    "\n",
    "\"\"\"\n",
    "def is_inside_torus(position, center, major_radius, minor_radius):\n",
    "    displacement = position - center\n",
    "    # Keep only x and y for cylindrical coordinates\n",
    "    r_cylindrical = np.linalg.norm(displacement[:2])\n",
    "    return (r_cylindrical - major_radius)**2 + displacement[2]**2 < minor_radius**2\n",
    "\n",
    "center = supercell.cell.diagonal() / 2\n",
    "major_radius = 100  # Adjust based on your requirements\n",
    "minor_radius = 30 # Adjust based on your requirements\n",
    "\n",
    "for atom in supercell:\n",
    "    if is_inside_torus(atom.position, center, major_radius, minor_radius):\n",
    "        atom.symbol = 'Cu'\n",
    "        \n",
    "\"\"\""
   ]
  },
  {
   "cell_type": "code",
   "execution_count": null,
   "id": "4f367e23",
   "metadata": {},
   "outputs": [],
   "source": []
  },
  {
   "cell_type": "code",
   "execution_count": null,
   "id": "d039103f",
   "metadata": {},
   "outputs": [],
   "source": []
  }
 ],
 "metadata": {
  "kernelspec": {
   "display_name": "Python 3 (ipykernel)",
   "language": "python",
   "name": "python3"
  },
  "language_info": {
   "codemirror_mode": {
    "name": "ipython",
    "version": 3
   },
   "file_extension": ".py",
   "mimetype": "text/x-python",
   "name": "python",
   "nbconvert_exporter": "python",
   "pygments_lexer": "ipython3",
   "version": "3.8.16"
  }
 },
 "nbformat": 4,
 "nbformat_minor": 5
}
