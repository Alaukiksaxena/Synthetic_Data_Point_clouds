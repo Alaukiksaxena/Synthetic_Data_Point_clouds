{
 "cells": [
  {
   "cell_type": "code",
   "execution_count": 1,
   "id": "3253290c",
   "metadata": {},
   "outputs": [],
   "source": [
    "from ase import Atoms\n",
    "from ase.build import bulk"
   ]
  },
  {
   "cell_type": "code",
   "execution_count": 2,
   "id": "551054fa",
   "metadata": {},
   "outputs": [
    {
     "name": "stdout",
     "output_type": "stream",
     "text": [
      "2023-06-19\n"
     ]
    }
   ],
   "source": [
    "from ase import Atoms\n",
    "from ase.build import bulk\n",
    "import numpy as np\n",
    "from pyevtk.hl import pointsToVTK\n",
    "from pyevtk.hl import gridToVTK#, pointsToVTKAsTIN\n",
    "from aptstructure.funct_syn_data import  *\n",
    "from ase.visualize import view\n",
    "import h5py\n",
    "import datetime\n",
    "\n",
    "date_object = datetime.date.today()\n",
    "print(date_object)"
   ]
  },
  {
   "cell_type": "code",
   "execution_count": 3,
   "id": "7f3e669f",
   "metadata": {},
   "outputs": [
    {
     "name": "stderr",
     "output_type": "stream",
     "text": [
      "/Users/alaukiksaxena/tensorflow-test/Development_20230613/Dislocations_20230613/env_dis/lib/python3.8/site-packages/ase/atoms.py:967: VisibleDeprecationWarning: Use get_global_number_of_atoms() instead\n",
      "  warnings.warn('Use get_global_number_of_atoms() instead',\n"
     ]
    }
   ],
   "source": [
    "supercell=APT_structure(Type=\"l12\", size=150, ratio_SOL=0.0,  m=0, sigma_x_y=0., sigma_z=0.,eff=1,angles=[0,0,0],rot=False  ) #150"
   ]
  },
  {
   "cell_type": "code",
   "execution_count": 4,
   "id": "3f5b476e",
   "metadata": {},
   "outputs": [],
   "source": [
    "def is_inside_cylinder(position, center, axis, radius, z_min, z_max):\n",
    "    displacement = np.array(position) - np.array(center)\n",
    "    distance_to_axis = np.linalg.norm(displacement - np.dot(displacement, axis) * axis)\n",
    "    # Check if position is within the desired length of the cylinder\n",
    "    is_within_length = z_min <= position[2] <= z_max\n",
    "    return distance_to_axis < radius and is_within_length"
   ]
  },
  {
   "cell_type": "code",
   "execution_count": 5,
   "id": "f5754f52",
   "metadata": {},
   "outputs": [],
   "source": [
    "center = np.array(supercell.cell.diagonal()) / 2\n",
    "axis = np.array([0, 0, 1])  # Change this to the desired axis of the cylinder\n",
    "radius = 30.  # Change this to the desired radius\n",
    "z_min = 200.  # Start of the cylinder\n",
    "z_max = 450.  # End of the cylinder\n",
    "atom_id = []\n",
    "for atom in supercell:\n",
    "    if not(is_inside_cylinder(np.array(atom.position), center, axis, radius, z_min, z_max)):\n",
    "        atom.symbol = 'Al'\n",
    "        atom_id.append(atom.index)"
   ]
  },
  {
   "cell_type": "code",
   "execution_count": 9,
   "id": "4cc8370e",
   "metadata": {},
   "outputs": [
    {
     "data": {
      "text/plain": [
       "array([303.5925, 303.5925, 303.5925])"
      ]
     },
     "execution_count": 9,
     "metadata": {},
     "output_type": "execute_result"
    }
   ],
   "source": [
    "center"
   ]
  },
  {
   "cell_type": "code",
   "execution_count": 7,
   "id": "5135dc51",
   "metadata": {},
   "outputs": [],
   "source": [
    "\n",
    "element_typ = supercell.get_atomic_numbers()\n",
    "pos_cell = supercell.get_positions()\n",
    "element_typ_mass = np.where(element_typ==13, 26.98, 62.0)\n",
    "data_pos_mass = np.hstack((pos_cell, element_typ_mass.reshape(-1,1),  element_typ.reshape(-1,1)))"
   ]
  },
  {
   "cell_type": "code",
   "execution_count": 8,
   "id": "9a393f5c",
   "metadata": {},
   "outputs": [],
   "source": [
    "with h5py.File(\"iso_Al_Cu_cylinder_150_sharp_nonoise.h5\", \"w\") as hdfr:\n",
    "    \n",
    "    hdfr.create_dataset(\"0\", data = data_pos_mass)"
   ]
  },
  {
   "cell_type": "code",
   "execution_count": 24,
   "id": "7f7db75a",
   "metadata": {},
   "outputs": [],
   "source": [
    "# Plotting Cylinder axis\n",
    "axis = np.array([0, 0, 1])  # Assuming the cylinder is aligned with the z-axis\n",
    "center = np.array(supercell.cell.diagonal()) / 2 # Center position of the cylinder\n",
    "length = z_max - z_min  # Length of the cylinder\n",
    "\n",
    "# Generate points along the cylinder's medial axis\n",
    "z_ax = np.linspace(z_min, z_max, 100)\n",
    "x_ax= center[0] + np.zeros_like(z_ax)\n",
    "y_ax = center[1] + np.zeros_like(z_ax)"
   ]
  },
  {
   "cell_type": "code",
   "execution_count": 32,
   "id": "c432e1f2",
   "metadata": {},
   "outputs": [
    {
     "data": {
      "text/plain": [
       "302.580525"
      ]
     },
     "execution_count": 32,
     "metadata": {},
     "output_type": "execute_result"
    }
   ],
   "source": [
    "supercell.positions[:,0].max()/2"
   ]
  },
  {
   "cell_type": "code",
   "execution_count": 26,
   "id": "62426a9d",
   "metadata": {},
   "outputs": [
    {
     "data": {
      "text/plain": [
       "array([303.5925, 303.5925, 303.5925])"
      ]
     },
     "execution_count": 26,
     "metadata": {},
     "output_type": "execute_result"
    }
   ],
   "source": [
    "center"
   ]
  },
  {
   "cell_type": "code",
   "execution_count": 27,
   "id": "21819052",
   "metadata": {},
   "outputs": [
    {
     "name": "stdout",
     "output_type": "stream",
     "text": [
      "20230615_dis_cylinder_true_axis_nonoise\n"
     ]
    },
    {
     "data": {
      "text/plain": [
       "'/Users/alaukiksaxena/tensorflow-test/Development_20230613/Dislocations_20230613/Synthetic_Data_Point_clouds/20230615_dis_cylinder_true_axis_nonoise.vtu'"
      ]
     },
     "execution_count": 27,
     "metadata": {},
     "output_type": "execute_result"
    }
   ],
   "source": [
    "# Plotting Cylinder axis\n",
    "from pyevtk.hl import pointsToVTK\n",
    "from pyevtk.hl import gridToVTK#, pointsToVTKAsTIN\n",
    "image = supercell.get_positions()\n",
    "FILE_PATH1 = \"20230615_dis_cylinder_true_axis_nonoise\"\n",
    "print(FILE_PATH1)\n",
    "x = np.ascontiguousarray(x_ax/10)\n",
    "y= np.ascontiguousarray(y_ax/10)\n",
    "z = np.ascontiguousarray(z_ax/10)\n",
    "\n",
    "pointsToVTK(FILE_PATH1,x,y,z, data = {\"label\" : label }  )"
   ]
  },
  {
   "cell_type": "code",
   "execution_count": null,
   "id": "70adc1a8",
   "metadata": {},
   "outputs": [],
   "source": [
    "#######"
   ]
  },
  {
   "cell_type": "code",
   "execution_count": 4,
   "id": "1bac2ca9",
   "metadata": {},
   "outputs": [],
   "source": [
    "if diffuse == True:\n",
    "\n",
    "\n",
    "    center = np.array(supercell.cell.diagonal()) / 2\n",
    "    axis = np.array([0, 0, 1])  # Change this to the desired axis of the cylinder\n",
    "    radius = 30.  # Change this to the desired radius\n",
    "    z_min = 200.  # Start of the cylinder\n",
    "    z_max = 450.  # End of the cylinder\n",
    "    atom_id = []\n",
    "    for atom in supercell:\n",
    "        if not(is_inside_cylinder(np.array(atom.position), center, axis, radius, z_min, z_max)):\n",
    "            atom.symbol = 'Al'\n",
    "            atom_id.append(atom.index)\n",
    "\n",
    "\n",
    "\n",
    "    atom_id = np.array(atom_id)\n",
    "    cu_idrand = atom_id[np.random.randint(0,len(atom_id),int(len(atom_id)*0.1))]\n",
    "    supercell.symbols[cu_idrand] = \"Cu\"\n",
    "    element_typ = supercell.get_atomic_numbers()\n",
    "    pos_cell = supercell.get_positions()\n",
    "    element_typ_mass = np.where(element_typ==13, 26.98, 62.0)\n",
    "    data_pos_mass = np.hstack((pos_cell, element_typ_mass.reshape(-1,1),  element_typ.reshape(-1,1)))"
   ]
  },
  {
   "cell_type": "code",
   "execution_count": 5,
   "id": "ea5a3c6e",
   "metadata": {},
   "outputs": [],
   "source": []
  },
  {
   "cell_type": "code",
   "execution_count": 6,
   "id": "82ab428e",
   "metadata": {},
   "outputs": [],
   "source": [
    "with h5py.File(\"iso_Al_Cu_cylinder_150_sharp_nonoise.h5\", \"w\") as hdfr:\n",
    "    \n",
    "    hdfr.create_dataset(\"0\", data = data_pos_mass)"
   ]
  },
  {
   "cell_type": "code",
   "execution_count": 24,
   "id": "038448f3",
   "metadata": {},
   "outputs": [],
   "source": [
    "# Plotting Cylinder axis\n",
    "axis = np.array([0, 0, 1])  # Assuming the cylinder is aligned with the z-axis\n",
    "center = np.array(supercell.cell.diagonal()) / 2 # Center position of the cylinder\n",
    "length = z_max - z_min  # Length of the cylinder\n",
    "\n",
    "# Generate points along the cylinder's medial axis\n",
    "z_ax = np.linspace(z_min, z_max, 100)\n",
    "x_ax = center[0] + np.ones_like(z_ax)\n",
    "y_ax = center[1] + np.ones_like(z_ax)"
   ]
  },
  {
   "cell_type": "code",
   "execution_count": 25,
   "id": "47be80b8",
   "metadata": {},
   "outputs": [
    {
     "name": "stdout",
     "output_type": "stream",
     "text": [
      "20230615_dis_half_cylinder_true_axis_apt_noise\n"
     ]
    },
    {
     "data": {
      "text/plain": [
       "'/Users/alaukiksaxena/tensorflow-test/Development_20230613/Dislocations_20230613/Synthetic_Data_Point_clouds/20230615_dis_half_cylinder_true_axis_apt_noise.vtu'"
      ]
     },
     "execution_count": 25,
     "metadata": {},
     "output_type": "execute_result"
    }
   ],
   "source": [
    "# Plotting Cylinder axis\n",
    "from pyevtk.hl import pointsToVTK\n",
    "from pyevtk.hl import gridToVTK#, pointsToVTKAsTIN\n",
    "image = supercell.get_positions()\n",
    "FILE_PATH1 = \"20230615_dis_half_cylinder_true_axis_apt_noise\"\n",
    "print(FILE_PATH1)\n",
    "x = np.ascontiguousarray(x_ax/10)\n",
    "y= np.ascontiguousarray(y_ax/10)\n",
    "z = np.ascontiguousarray(z_ax/10)\n",
    "\n",
    "pointsToVTK(FILE_PATH1,x,y,z, data = {\"label\" : label }  )"
   ]
  },
  {
   "cell_type": "code",
   "execution_count": 6,
   "id": "ad2df127",
   "metadata": {},
   "outputs": [
    {
     "name": "stdout",
     "output_type": "stream",
     "text": [
      "20230615_dis_cyl_sharp_interface_no_noise\n"
     ]
    },
    {
     "data": {
      "text/plain": [
       "'/Users/alaukiksaxena/tensorflow-test/Development_20230613/Dislocations_20230613/Synthetic_Data_Point_clouds/20230615_dis_cyl_sharp_interface_no_noise.vtu'"
      ]
     },
     "execution_count": 6,
     "metadata": {},
     "output_type": "execute_result"
    }
   ],
   "source": [
    "# Plotting Cylinder atoms\n",
    "from pyevtk.hl import pointsToVTK\n",
    "from pyevtk.hl import gridToVTK#, pointsToVTKAsTIN\n",
    "image = supercell.get_positions()\n",
    "FILE_PATH1 = \"20230615_dis_cyl_sharp_interface_no_noise\"\n",
    "print(FILE_PATH1)\n",
    "x = np.ascontiguousarray(image[:,0]/10)\n",
    "y= np.ascontiguousarray(image[:,1]/10)\n",
    "z = np.ascontiguousarray(image[:,2]/10)\n",
    "label = np.ascontiguousarray( supercell.get_atomic_numbers())\n",
    "pointsToVTK(FILE_PATH1,x,y,z, data = {\"label\" : label }  )"
   ]
  },
  {
   "cell_type": "code",
   "execution_count": 10,
   "id": "d1a8812d",
   "metadata": {},
   "outputs": [
    {
     "name": "stdout",
     "output_type": "stream",
     "text": [
      "/Users/alaukiksaxena/tensorflow-test/Development_20230613/Dislocations_20230613/Synthetic_Data_Point_clouds\r\n"
     ]
    }
   ],
   "source": [
    "! pwd"
   ]
  },
  {
   "cell_type": "code",
   "execution_count": null,
   "id": "5ff7d814",
   "metadata": {},
   "outputs": [],
   "source": []
  },
  {
   "cell_type": "code",
   "execution_count": null,
   "id": "514f3b60",
   "metadata": {},
   "outputs": [],
   "source": [
    "########################################"
   ]
  }
 ],
 "metadata": {
  "kernelspec": {
   "display_name": "Python 3 (ipykernel)",
   "language": "python",
   "name": "python3"
  },
  "language_info": {
   "codemirror_mode": {
    "name": "ipython",
    "version": 3
   },
   "file_extension": ".py",
   "mimetype": "text/x-python",
   "name": "python",
   "nbconvert_exporter": "python",
   "pygments_lexer": "ipython3",
   "version": "3.8.16"
  }
 },
 "nbformat": 4,
 "nbformat_minor": 5
}
